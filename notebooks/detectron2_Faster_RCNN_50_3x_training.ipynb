{
  "cells": [
    {
      "cell_type": "markdown",
      "metadata": {
        "id": "_3l1-zkOjZsW"
      },
      "source": [
        "# Mount Drive for getting annotated dataset"
      ]
    },
    {
      "cell_type": "code",
      "execution_count": null,
      "metadata": {
        "colab": {
          "base_uri": "https://localhost:8080/"
        },
        "id": "jxdlvrPXEXMd",
        "outputId": "6ee17522-e512-4f69-900c-7b378744927f"
      },
      "outputs": [
        {
          "name": "stdout",
          "output_type": "stream",
          "text": [
            "Mounted at /content/drive\n"
          ]
        }
      ],
      "source": [
        "from google.colab import drive\n",
        "drive.mount('/content/drive')"
      ]
    },
    {
      "cell_type": "markdown",
      "metadata": {
        "id": "LJKWksTmjmpr"
      },
      "source": [
        "# Install Dependencies and Detectron Setup"
      ]
    },
    {
      "cell_type": "code",
      "execution_count": null,
      "metadata": {
        "colab": {
          "base_uri": "https://localhost:8080/"
        },
        "collapsed": true,
        "id": "Z63GCWBdAnai",
        "outputId": "87e9d0ea-6308-4fe8-aa42-26fa940f5432"
      },
      "outputs": [
        {
          "name": "stdout",
          "output_type": "stream",
          "text": [
            "Collecting pyyaml==5.1\n",
            "  Downloading PyYAML-5.1.tar.gz (274 kB)\n",
            "\u001b[?25l     \u001b[90m━━━━━━━━━━━━━━━━━━━━━━━━━━━━━━━━━━━━━━━━\u001b[0m \u001b[32m0.0/274.2 kB\u001b[0m \u001b[31m?\u001b[0m eta \u001b[36m-:--:--\u001b[0m\r\u001b[2K     \u001b[90m━━━━━━━━━━━━━━━━━━━━━━━━━━━━━━━━━━━━━━━\u001b[0m \u001b[32m274.2/274.2 kB\u001b[0m \u001b[31m8.1 MB/s\u001b[0m eta \u001b[36m0:00:00\u001b[0m\n",
            "\u001b[?25h  \u001b[1;31merror\u001b[0m: \u001b[1msubprocess-exited-with-error\u001b[0m\n",
            "  \n",
            "  \u001b[31m×\u001b[0m \u001b[32mpython setup.py egg_info\u001b[0m did not run successfully.\n",
            "  \u001b[31m│\u001b[0m exit code: \u001b[1;36m1\u001b[0m\n",
            "  \u001b[31m╰─>\u001b[0m See above for output.\n",
            "  \n",
            "  \u001b[1;35mnote\u001b[0m: This error originates from a subprocess, and is likely not a problem with pip.\n",
            "  Preparing metadata (setup.py) ... \u001b[?25l\u001b[?25herror\n",
            "\u001b[1;31merror\u001b[0m: \u001b[1mmetadata-generation-failed\u001b[0m\n",
            "\n",
            "\u001b[31m×\u001b[0m Encountered error while generating package metadata.\n",
            "\u001b[31m╰─>\u001b[0m See above for output.\n",
            "\n",
            "\u001b[1;35mnote\u001b[0m: This is an issue with the package mentioned above, not pip.\n",
            "\u001b[1;36mhint\u001b[0m: See above for details.\n",
            "Cloning into 'detectron2'...\n",
            "remote: Enumerating objects: 15860, done.\u001b[K\n",
            "remote: Counting objects: 100% (67/67), done.\u001b[K\n",
            "remote: Compressing objects: 100% (54/54), done.\u001b[K\n",
            "remote: Total 15860 (delta 38), reused 15 (delta 13), pack-reused 15793 (from 3)\u001b[K\n",
            "Receiving objects: 100% (15860/15860), 6.41 MiB | 23.12 MiB/s, done.\n",
            "Resolving deltas: 100% (11546/11546), done.\n",
            "Ignoring dataclasses: markers 'python_version < \"3.7\"' don't match your environment\n",
            "Requirement already satisfied: Pillow>=7.1 in /usr/local/lib/python3.11/dist-packages (11.2.1)\n",
            "Requirement already satisfied: matplotlib in /usr/local/lib/python3.11/dist-packages (3.10.0)\n",
            "Requirement already satisfied: pycocotools>=2.0.2 in /usr/local/lib/python3.11/dist-packages (2.0.8)\n",
            "Requirement already satisfied: termcolor>=1.1 in /usr/local/lib/python3.11/dist-packages (3.1.0)\n",
            "Collecting yacs>=0.1.8\n",
            "  Downloading yacs-0.1.8-py3-none-any.whl.metadata (639 bytes)\n",
            "Requirement already satisfied: tabulate in /usr/local/lib/python3.11/dist-packages (0.9.0)\n",
            "Requirement already satisfied: cloudpickle in /usr/local/lib/python3.11/dist-packages (3.1.1)\n",
            "Requirement already satisfied: tqdm>4.29.0 in /usr/local/lib/python3.11/dist-packages (4.67.1)\n",
            "Requirement already satisfied: tensorboard in /usr/local/lib/python3.11/dist-packages (2.18.0)\n",
            "Collecting fvcore<0.1.6,>=0.1.5\n",
            "  Downloading fvcore-0.1.5.post20221221.tar.gz (50 kB)\n",
            "\u001b[2K     \u001b[90m━━━━━━━━━━━━━━━━━━━━━━━━━━━━━━━━━━━━━━━━\u001b[0m \u001b[32m50.2/50.2 kB\u001b[0m \u001b[31m2.7 MB/s\u001b[0m eta \u001b[36m0:00:00\u001b[0m\n",
            "\u001b[?25h  Preparing metadata (setup.py) ... \u001b[?25l\u001b[?25hdone\n",
            "Collecting iopath<0.1.10,>=0.1.7\n",
            "  Downloading iopath-0.1.9-py3-none-any.whl.metadata (370 bytes)\n",
            "Collecting omegaconf<2.4,>=2.1\n",
            "  Downloading omegaconf-2.3.0-py3-none-any.whl.metadata (3.9 kB)\n",
            "Collecting hydra-core>=1.1\n",
            "  Downloading hydra_core-1.3.2-py3-none-any.whl.metadata (5.5 kB)\n",
            "Collecting black\n",
            "  Downloading black-25.1.0-cp311-cp311-manylinux_2_17_x86_64.manylinux2014_x86_64.manylinux_2_28_x86_64.whl.metadata (81 kB)\n",
            "\u001b[2K     \u001b[90m━━━━━━━━━━━━━━━━━━━━━━━━━━━━━━━━━━━━━━━━\u001b[0m \u001b[32m81.3/81.3 kB\u001b[0m \u001b[31m4.9 MB/s\u001b[0m eta \u001b[36m0:00:00\u001b[0m\n",
            "\u001b[?25hRequirement already satisfied: packaging in /usr/local/lib/python3.11/dist-packages (24.2)\n",
            "Requirement already satisfied: contourpy>=1.0.1 in /usr/local/lib/python3.11/dist-packages (from matplotlib) (1.3.2)\n",
            "Requirement already satisfied: cycler>=0.10 in /usr/local/lib/python3.11/dist-packages (from matplotlib) (0.12.1)\n",
            "Requirement already satisfied: fonttools>=4.22.0 in /usr/local/lib/python3.11/dist-packages (from matplotlib) (4.57.0)\n",
            "Requirement already satisfied: kiwisolver>=1.3.1 in /usr/local/lib/python3.11/dist-packages (from matplotlib) (1.4.8)\n",
            "Requirement already satisfied: numpy>=1.23 in /usr/local/lib/python3.11/dist-packages (from matplotlib) (2.0.2)\n",
            "Requirement already satisfied: pyparsing>=2.3.1 in /usr/local/lib/python3.11/dist-packages (from matplotlib) (3.2.3)\n",
            "Requirement already satisfied: python-dateutil>=2.7 in /usr/local/lib/python3.11/dist-packages (from matplotlib) (2.9.0.post0)\n",
            "Requirement already satisfied: PyYAML in /usr/local/lib/python3.11/dist-packages (from yacs>=0.1.8) (6.0.2)\n",
            "Requirement already satisfied: absl-py>=0.4 in /usr/local/lib/python3.11/dist-packages (from tensorboard) (1.4.0)\n",
            "Requirement already satisfied: grpcio>=1.48.2 in /usr/local/lib/python3.11/dist-packages (from tensorboard) (1.71.0)\n",
            "Requirement already satisfied: markdown>=2.6.8 in /usr/local/lib/python3.11/dist-packages (from tensorboard) (3.8)\n",
            "Requirement already satisfied: protobuf!=4.24.0,>=3.19.6 in /usr/local/lib/python3.11/dist-packages (from tensorboard) (5.29.4)\n",
            "Requirement already satisfied: setuptools>=41.0.0 in /usr/local/lib/python3.11/dist-packages (from tensorboard) (75.2.0)\n",
            "Requirement already satisfied: six>1.9 in /usr/local/lib/python3.11/dist-packages (from tensorboard) (1.17.0)\n",
            "Requirement already satisfied: tensorboard-data-server<0.8.0,>=0.7.0 in /usr/local/lib/python3.11/dist-packages (from tensorboard) (0.7.2)\n",
            "Requirement already satisfied: werkzeug>=1.0.1 in /usr/local/lib/python3.11/dist-packages (from tensorboard) (3.1.3)\n",
            "Collecting portalocker (from iopath<0.1.10,>=0.1.7)\n",
            "  Downloading portalocker-3.1.1-py3-none-any.whl.metadata (8.6 kB)\n",
            "Collecting antlr4-python3-runtime==4.9.* (from omegaconf<2.4,>=2.1)\n",
            "  Downloading antlr4-python3-runtime-4.9.3.tar.gz (117 kB)\n",
            "\u001b[2K     \u001b[90m━━━━━━━━━━━━━━━━━━━━━━━━━━━━━━━━━━━━━━\u001b[0m \u001b[32m117.0/117.0 kB\u001b[0m \u001b[31m10.0 MB/s\u001b[0m eta \u001b[36m0:00:00\u001b[0m\n",
            "\u001b[?25h  Preparing metadata (setup.py) ... \u001b[?25l\u001b[?25hdone\n",
            "Requirement already satisfied: click>=8.0.0 in /usr/local/lib/python3.11/dist-packages (from black) (8.1.8)\n",
            "Collecting mypy-extensions>=0.4.3 (from black)\n",
            "  Downloading mypy_extensions-1.1.0-py3-none-any.whl.metadata (1.1 kB)\n",
            "Collecting pathspec>=0.9.0 (from black)\n",
            "  Downloading pathspec-0.12.1-py3-none-any.whl.metadata (21 kB)\n",
            "Requirement already satisfied: platformdirs>=2 in /usr/local/lib/python3.11/dist-packages (from black) (4.3.7)\n",
            "Requirement already satisfied: MarkupSafe>=2.1.1 in /usr/local/lib/python3.11/dist-packages (from werkzeug>=1.0.1->tensorboard) (3.0.2)\n",
            "Downloading yacs-0.1.8-py3-none-any.whl (14 kB)\n",
            "Downloading iopath-0.1.9-py3-none-any.whl (27 kB)\n",
            "Downloading omegaconf-2.3.0-py3-none-any.whl (79 kB)\n",
            "\u001b[2K   \u001b[90m━━━━━━━━━━━━━━━━━━━━━━━━━━━━━━━━━━━━━━━━\u001b[0m \u001b[32m79.5/79.5 kB\u001b[0m \u001b[31m7.3 MB/s\u001b[0m eta \u001b[36m0:00:00\u001b[0m\n",
            "\u001b[?25hDownloading hydra_core-1.3.2-py3-none-any.whl (154 kB)\n",
            "\u001b[2K   \u001b[90m━━━━━━━━━━━━━━━━━━━━━━━━━━━━━━━━━━━━━━━━\u001b[0m \u001b[32m154.5/154.5 kB\u001b[0m \u001b[31m14.7 MB/s\u001b[0m eta \u001b[36m0:00:00\u001b[0m\n",
            "\u001b[?25hDownloading black-25.1.0-cp311-cp311-manylinux_2_17_x86_64.manylinux2014_x86_64.manylinux_2_28_x86_64.whl (1.7 MB)\n",
            "\u001b[2K   \u001b[90m━━━━━━━━━━━━━━━━━━━━━━━━━━━━━━━━━━━━━━━━\u001b[0m \u001b[32m1.7/1.7 MB\u001b[0m \u001b[31m62.0 MB/s\u001b[0m eta \u001b[36m0:00:00\u001b[0m\n",
            "\u001b[?25hDownloading mypy_extensions-1.1.0-py3-none-any.whl (5.0 kB)\n",
            "Downloading pathspec-0.12.1-py3-none-any.whl (31 kB)\n",
            "Downloading portalocker-3.1.1-py3-none-any.whl (19 kB)\n",
            "Building wheels for collected packages: fvcore, antlr4-python3-runtime\n",
            "  Building wheel for fvcore (setup.py) ... \u001b[?25l\u001b[?25hdone\n",
            "  Created wheel for fvcore: filename=fvcore-0.1.5.post20221221-py3-none-any.whl size=61397 sha256=bdb804a20a284b2f41d2ec51a5bf360137c5639ca014fb49d6a5e8a63f915081\n",
            "  Stored in directory: /root/.cache/pip/wheels/65/71/95/3b8fde5c65c6e4a806e0867c1651dcc71a1cb2f3430e8f355f\n",
            "  Building wheel for antlr4-python3-runtime (setup.py) ... \u001b[?25l\u001b[?25hdone\n",
            "  Created wheel for antlr4-python3-runtime: filename=antlr4_python3_runtime-4.9.3-py3-none-any.whl size=144554 sha256=d46398c943bc8e95946743de6c157f8b789b412542aa9a69d36d0135b329bc6a\n",
            "  Stored in directory: /root/.cache/pip/wheels/1a/97/32/461f837398029ad76911109f07047fde1d7b661a147c7c56d1\n",
            "Successfully built fvcore antlr4-python3-runtime\n",
            "Installing collected packages: antlr4-python3-runtime, yacs, portalocker, pathspec, omegaconf, mypy-extensions, iopath, hydra-core, black, fvcore\n",
            "Successfully installed antlr4-python3-runtime-4.9.3 black-25.1.0 fvcore-0.1.5.post20221221 hydra-core-1.3.2 iopath-0.1.9 mypy-extensions-1.1.0 omegaconf-2.3.0 pathspec-0.12.1 portalocker-3.1.1 yacs-0.1.8\n"
          ]
        }
      ],
      "source": [
        "!python -m pip install pyyaml==5.1\n",
        "import sys, os, distutils.core\n",
        "!git clone 'https://github.com/facebookresearch/detectron2'\n",
        "dist = distutils.core.run_setup(\"./detectron2/setup.py\")\n",
        "!python -m pip install {' '.join([f\"'{x}'\" for x in dist.install_requires])}\n",
        "sys.path.insert(0, os.path.abspath('./detectron2'))"
      ]
    },
    {
      "cell_type": "markdown",
      "metadata": {
        "id": "_CiLbRVskfQy"
      },
      "source": [
        "# Import Libraries"
      ]
    },
    {
      "cell_type": "code",
      "execution_count": null,
      "metadata": {
        "id": "jxetV0W8A1MT"
      },
      "outputs": [],
      "source": [
        "# import some common libraries\n",
        "import numpy as np\n",
        "import os, json, cv2, random\n",
        "from google.colab.patches import cv2_imshow\n",
        "\n",
        "# import some common detectron2 utilities\n",
        "from detectron2 import model_zoo\n",
        "from detectron2.engine import DefaultPredictor\n",
        "from detectron2.config import get_cfg\n",
        "from detectron2.utils.visualizer import Visualizer\n",
        "from detectron2.data import MetadataCatalog, DatasetCatalog"
      ]
    },
    {
      "cell_type": "markdown",
      "metadata": {
        "id": "kHe5CzXMl5Hx"
      },
      "source": [
        "# Dataset Registration"
      ]
    },
    {
      "cell_type": "code",
      "execution_count": null,
      "metadata": {
        "id": "f0AQSR8zSwuD"
      },
      "outputs": [],
      "source": [
        "from detectron2.data.datasets import register_coco_instances\n",
        "from detectron2.data import MetadataCatalog, DatasetCatalog\n",
        "\n",
        "image_dir = \"data/Images\"  # path of images folder\n",
        "train_json = \"data/train.json\"  #path of train json file in coco format\n",
        "val_json = \"data/val.json\"   #path of val json file in coco format\n",
        "\n",
        "# Register the datasets\n",
        "register_coco_instances(\"cancer_detection_train\", {}, train_json, image_dir + \"/train_images\")\n",
        "register_coco_instances(\"cancer_detection_val\", {}, val_json, image_dir + \"/val_images\")\n",
        "\n",
        "# Access metadata\n",
        "metadata = MetadataCatalog.get(\"cancer_detection_train\")\n"
      ]
    },
    {
      "cell_type": "markdown",
      "metadata": {
        "id": "Yf7m5Rv6mGvM"
      },
      "source": [
        "# Check the data set format and validity"
      ]
    },
    {
      "cell_type": "code",
      "execution_count": null,
      "metadata": {
        "colab": {
          "base_uri": "https://localhost:8080/",
          "height": 440
        },
        "id": "tCBa0ShhSAyy",
        "outputId": "13214e26-f435-42be-bd7f-f17d816750fe"
      },
      "outputs": [
        {
          "name": "stdout",
          "output_type": "stream",
          "text": [
            "[05/06 19:08:00 d2.data.datasets.coco]: Loading /content/drive/MyDrive/Cancer_dataset/train.json takes 1.10 seconds.\n",
            "WARNING [05/06 19:08:00 d2.data.datasets.coco]: \n",
            "Category ids in annotations are not in [1, #categories]! We'll apply a mapping for you.\n",
            "\n",
            "[05/06 19:08:00 d2.data.datasets.coco]: Loaded 439 images in COCO format from /content/drive/MyDrive/Cancer_dataset/train.json\n"
          ]
        },
        {
          "data": {
            "image/jpeg": "[encoded data removed]",
            "image/png": "[encoded data removed]",
            "text/plain": [
              "<PIL.Image.Image image mode=RGB size=112x112>"
            ]
          },
          "metadata": {},
          "output_type": "display_data"
        },
        {
          "data": {
            "image/jpeg": "[encoded data removed]",
            "image/png": "[encoded data removed]",
            "text/plain": [
              "<PIL.Image.Image image mode=RGB size=112x112>"
            ]
          },
          "metadata": {},
          "output_type": "display_data"
        },
        {
          "data": {
            "image/jpeg": "[encoded data removed]",
            "image/png": "[encoded data removed]",
            "text/plain": [
              "<PIL.Image.Image image mode=RGB size=112x112>"
            ]
          },
          "metadata": {},
          "output_type": "display_data"
        }
      ],
      "source": [
        "import random\n",
        "import cv2\n",
        "from detectron2.utils.visualizer import Visualizer\n",
        "from detectron2.data import DatasetCatalog\n",
        "from google.colab.patches import cv2_imshow\n",
        "\n",
        "dataset_dicts = DatasetCatalog.get(\"cancer_detection_train\")   #get registered dataset\n",
        "\n",
        "for d in random.sample(dataset_dicts, min(3, len(dataset_dicts))):\n",
        "    img = cv2.imread(d[\"file_name\"])\n",
        "    visualizer = Visualizer(img[:, :, ::-1], metadata=metadata, scale=0.5)  #convert the BGR channel to RBG\n",
        "    out = visualizer.draw_dataset_dict(d)  #visualize using Detectron Visualizer\n",
        "    cv2_imshow(out.get_image()[:, :, ::-1])  #again convert RGB to BGR for display\n"
      ]
    },
    {
      "cell_type": "markdown",
      "metadata": {
        "id": "watlvrzOmPfL"
      },
      "source": [
        "# Configure base model and define training parameters"
      ]
    },
    {
      "cell_type": "code",
      "execution_count": null,
      "metadata": {
        "id": "GJ8IHHwNW3Hm"
      },
      "outputs": [],
      "source": [
        "cfg = get_cfg()   #Load base configuration\n",
        "cfg.merge_from_file(model_zoo.get_config_file(\"COCO-Detection/faster_rcnn_R_50_FPN_3x.yaml\")) # configure faster_rcnn_R_50_FPN_3x\n",
        "cfg.DATASETS.TRAIN = (\"cancer_detection_train\",)\n",
        "cfg.DATALOADER.NUM_WORKERS = 2\n",
        "cfg.MODEL.WEIGHTS = model_zoo.get_checkpoint_url(\"COCO-Detection/faster_rcnn_R_50_FPN_3x.yaml\") # weights of pre-trained model\n",
        "cfg.SOLVER.IMS_PER_BATCH = 2\n",
        "cfg.SOLVER.BASE_LR = 0.0001\n",
        "cfg.SOLVER.MAX_ITER = 800   # for small dataset we used 800, maximum can be 27,000 for 3x\n",
        "cfg.SOLVER.STEPS = []    # do not decay learning rate\n",
        "cfg.MODEL.ROI_HEADS.BATCH_SIZE_PER_IMAGE = 256   # The \"RoIHead batch size\". 128 is faster, 256 is better of inferencing\n",
        "cfg.MODEL.ROI_HEADS.NUM_CLASSES = 2  # classes: benign, malignant"
      ]
    },
    {
      "cell_type": "markdown",
      "metadata": {
        "id": "b-y9iqG4mMgd"
      },
      "source": [
        "# Setup Default Trainer and Start Training"
      ]
    },
    {
      "cell_type": "code",
      "execution_count": null,
      "metadata": {
        "colab": {
          "base_uri": "https://localhost:8080/"
        },
        "collapsed": true,
        "id": "y_IkDjTCbAca",
        "outputId": "98f25f16-402e-4860-a873-2a706cd5ffc5"
      },
      "outputs": [
        {
          "name": "stdout",
          "output_type": "stream",
          "text": [
            "[05/06 19:09:23 d2.engine.defaults]: Model:\n",
            "GeneralizedRCNN(\n",
            "  (backbone): FPN(\n",
            "    (fpn_lateral2): Conv2d(256, 256, kernel_size=(1, 1), stride=(1, 1))\n",
            "    (fpn_output2): Conv2d(256, 256, kernel_size=(3, 3), stride=(1, 1), padding=(1, 1))\n",
            "    (fpn_lateral3): Conv2d(512, 256, kernel_size=(1, 1), stride=(1, 1))\n",
            "    (fpn_output3): Conv2d(256, 256, kernel_size=(3, 3), stride=(1, 1), padding=(1, 1))\n",
            "    (fpn_lateral4): Conv2d(1024, 256, kernel_size=(1, 1), stride=(1, 1))\n",
            "    (fpn_output4): Conv2d(256, 256, kernel_size=(3, 3), stride=(1, 1), padding=(1, 1))\n",
            "    (fpn_lateral5): Conv2d(2048, 256, kernel_size=(1, 1), stride=(1, 1))\n",
            "    (fpn_output5): Conv2d(256, 256, kernel_size=(3, 3), stride=(1, 1), padding=(1, 1))\n",
            "    (top_block): LastLevelMaxPool()\n",
            "    (bottom_up): ResNet(\n",
            "      (stem): BasicStem(\n",
            "        (conv1): Conv2d(\n",
            "          3, 64, kernel_size=(7, 7), stride=(2, 2), padding=(3, 3), bias=False\n",
            "          (norm): FrozenBatchNorm2d(num_features=64, eps=1e-05)\n",
            "        )\n",
            "      )\n",
            "      (res2): Sequential(\n",
            "        (0): BottleneckBlock(\n",
            "          (shortcut): Conv2d(\n",
            "            64, 256, kernel_size=(1, 1), stride=(1, 1), bias=False\n",
            "            (norm): FrozenBatchNorm2d(num_features=256, eps=1e-05)\n",
            "          )\n",
            "          (conv1): Conv2d(\n",
            "            64, 64, kernel_size=(1, 1), stride=(1, 1), bias=False\n",
            "            (norm): FrozenBatchNorm2d(num_features=64, eps=1e-05)\n",
            "          )\n",
            "          (conv2): Conv2d(\n",
            "            64, 64, kernel_size=(3, 3), stride=(1, 1), padding=(1, 1), bias=False\n",
            "            (norm): FrozenBatchNorm2d(num_features=64, eps=1e-05)\n",
            "          )\n",
            "          (conv3): Conv2d(\n",
            "            64, 256, kernel_size=(1, 1), stride=(1, 1), bias=False\n",
            "            (norm): FrozenBatchNorm2d(num_features=256, eps=1e-05)\n",
            "          )\n",
            "        )\n",
            "        (1): BottleneckBlock(\n",
            "          (conv1): Conv2d(\n",
            "            256, 64, kernel_size=(1, 1), stride=(1, 1), bias=False\n",
            "            (norm): FrozenBatchNorm2d(num_features=64, eps=1e-05)\n",
            "          )\n",
            "          (conv2): Conv2d(\n",
            "            64, 64, kernel_size=(3, 3), stride=(1, 1), padding=(1, 1), bias=False\n",
            "            (norm): FrozenBatchNorm2d(num_features=64, eps=1e-05)\n",
            "          )\n",
            "          (conv3): Conv2d(\n",
            "            64, 256, kernel_size=(1, 1), stride=(1, 1), bias=False\n",
            "            (norm): FrozenBatchNorm2d(num_features=256, eps=1e-05)\n",
            "          )\n",
            "        )\n",
            "        (2): BottleneckBlock(\n",
            "          (conv1): Conv2d(\n",
            "            256, 64, kernel_size=(1, 1), stride=(1, 1), bias=False\n",
            "            (norm): FrozenBatchNorm2d(num_features=64, eps=1e-05)\n",
            "          )\n",
            "          (conv2): Conv2d(\n",
            "            64, 64, kernel_size=(3, 3), stride=(1, 1), padding=(1, 1), bias=False\n",
            "            (norm): FrozenBatchNorm2d(num_features=64, eps=1e-05)\n",
            "          )\n",
            "          (conv3): Conv2d(\n",
            "            64, 256, kernel_size=(1, 1), stride=(1, 1), bias=False\n",
            "            (norm): FrozenBatchNorm2d(num_features=256, eps=1e-05)\n",
            "          )\n",
            "        )\n",
            "      )\n",
            "      (res3): Sequential(\n",
            "        (0): BottleneckBlock(\n",
            "          (shortcut): Conv2d(\n",
            "            256, 512, kernel_size=(1, 1), stride=(2, 2), bias=False\n",
            "            (norm): FrozenBatchNorm2d(num_features=512, eps=1e-05)\n",
            "          )\n",
            "          (conv1): Conv2d(\n",
            "            256, 128, kernel_size=(1, 1), stride=(2, 2), bias=False\n",
            "            (norm): FrozenBatchNorm2d(num_features=128, eps=1e-05)\n",
            "          )\n",
            "          (conv2): Conv2d(\n",
            "            128, 128, kernel_size=(3, 3), stride=(1, 1), padding=(1, 1), bias=False\n",
            "            (norm): FrozenBatchNorm2d(num_features=128, eps=1e-05)\n",
            "          )\n",
            "          (conv3): Conv2d(\n",
            "            128, 512, kernel_size=(1, 1), stride=(1, 1), bias=False\n",
            "            (norm): FrozenBatchNorm2d(num_features=512, eps=1e-05)\n",
            "          )\n",
            "        )\n",
            "        (1): BottleneckBlock(\n",
            "          (conv1): Conv2d(\n",
            "            512, 128, kernel_size=(1, 1), stride=(1, 1), bias=False\n",
            "            (norm): FrozenBatchNorm2d(num_features=128, eps=1e-05)\n",
            "          )\n",
            "          (conv2): Conv2d(\n",
            "            128, 128, kernel_size=(3, 3), stride=(1, 1), padding=(1, 1), bias=False\n",
            "            (norm): FrozenBatchNorm2d(num_features=128, eps=1e-05)\n",
            "          )\n",
            "          (conv3): Conv2d(\n",
            "            128, 512, kernel_size=(1, 1), stride=(1, 1), bias=False\n",
            "            (norm): FrozenBatchNorm2d(num_features=512, eps=1e-05)\n",
            "          )\n",
            "        )\n",
            "        (2): BottleneckBlock(\n",
            "          (conv1): Conv2d(\n",
            "            512, 128, kernel_size=(1, 1), stride=(1, 1), bias=False\n",
            "            (norm): FrozenBatchNorm2d(num_features=128, eps=1e-05)\n",
            "          )\n",
            "          (conv2): Conv2d(\n",
            "            128, 128, kernel_size=(3, 3), stride=(1, 1), padding=(1, 1), bias=False\n",
            "            (norm): FrozenBatchNorm2d(num_features=128, eps=1e-05)\n",
            "          )\n",
            "          (conv3): Conv2d(\n",
            "            128, 512, kernel_size=(1, 1), stride=(1, 1), bias=False\n",
            "            (norm): FrozenBatchNorm2d(num_features=512, eps=1e-05)\n",
            "          )\n",
            "        )\n",
            "        (3): BottleneckBlock(\n",
            "          (conv1): Conv2d(\n",
            "            512, 128, kernel_size=(1, 1), stride=(1, 1), bias=False\n",
            "            (norm): FrozenBatchNorm2d(num_features=128, eps=1e-05)\n",
            "          )\n",
            "          (conv2): Conv2d(\n",
            "            128, 128, kernel_size=(3, 3), stride=(1, 1), padding=(1, 1), bias=False\n",
            "            (norm): FrozenBatchNorm2d(num_features=128, eps=1e-05)\n",
            "          )\n",
            "          (conv3): Conv2d(\n",
            "            128, 512, kernel_size=(1, 1), stride=(1, 1), bias=False\n",
            "            (norm): FrozenBatchNorm2d(num_features=512, eps=1e-05)\n",
            "          )\n",
            "        )\n",
            "      )\n",
            "      (res4): Sequential(\n",
            "        (0): BottleneckBlock(\n",
            "          (shortcut): Conv2d(\n",
            "            512, 1024, kernel_size=(1, 1), stride=(2, 2), bias=False\n",
            "            (norm): FrozenBatchNorm2d(num_features=1024, eps=1e-05)\n",
            "          )\n",
            "          (conv1): Conv2d(\n",
            "            512, 256, kernel_size=(1, 1), stride=(2, 2), bias=False\n",
            "            (norm): FrozenBatchNorm2d(num_features=256, eps=1e-05)\n",
            "          )\n",
            "          (conv2): Conv2d(\n",
            "            256, 256, kernel_size=(3, 3), stride=(1, 1), padding=(1, 1), bias=False\n",
            "            (norm): FrozenBatchNorm2d(num_features=256, eps=1e-05)\n",
            "          )\n",
            "          (conv3): Conv2d(\n",
            "            256, 1024, kernel_size=(1, 1), stride=(1, 1), bias=False\n",
            "            (norm): FrozenBatchNorm2d(num_features=1024, eps=1e-05)\n",
            "          )\n",
            "        )\n",
            "        (1): BottleneckBlock(\n",
            "          (conv1): Conv2d(\n",
            "            1024, 256, kernel_size=(1, 1), stride=(1, 1), bias=False\n",
            "            (norm): FrozenBatchNorm2d(num_features=256, eps=1e-05)\n",
            "          )\n",
            "          (conv2): Conv2d(\n",
            "            256, 256, kernel_size=(3, 3), stride=(1, 1), padding=(1, 1), bias=False\n",
            "            (norm): FrozenBatchNorm2d(num_features=256, eps=1e-05)\n",
            "          )\n",
            "          (conv3): Conv2d(\n",
            "            256, 1024, kernel_size=(1, 1), stride=(1, 1), bias=False\n",
            "            (norm): FrozenBatchNorm2d(num_features=1024, eps=1e-05)\n",
            "          )\n",
            "        )\n",
            "        (2): BottleneckBlock(\n",
            "          (conv1): Conv2d(\n",
            "            1024, 256, kernel_size=(1, 1), stride=(1, 1), bias=False\n",
            "            (norm): FrozenBatchNorm2d(num_features=256, eps=1e-05)\n",
            "          )\n",
            "          (conv2): Conv2d(\n",
            "            256, 256, kernel_size=(3, 3), stride=(1, 1), padding=(1, 1), bias=False\n",
            "            (norm): FrozenBatchNorm2d(num_features=256, eps=1e-05)\n",
            "          )\n",
            "          (conv3): Conv2d(\n",
            "            256, 1024, kernel_size=(1, 1), stride=(1, 1), bias=False\n",
            "            (norm): FrozenBatchNorm2d(num_features=1024, eps=1e-05)\n",
            "          )\n",
            "        )\n",
            "        (3): BottleneckBlock(\n",
            "          (conv1): Conv2d(\n",
            "            1024, 256, kernel_size=(1, 1), stride=(1, 1), bias=False\n",
            "            (norm): FrozenBatchNorm2d(num_features=256, eps=1e-05)\n",
            "          )\n",
            "          (conv2): Conv2d(\n",
            "            256, 256, kernel_size=(3, 3), stride=(1, 1), padding=(1, 1), bias=False\n",
            "            (norm): FrozenBatchNorm2d(num_features=256, eps=1e-05)\n",
            "          )\n",
            "          (conv3): Conv2d(\n",
            "            256, 1024, kernel_size=(1, 1), stride=(1, 1), bias=False\n",
            "            (norm): FrozenBatchNorm2d(num_features=1024, eps=1e-05)\n",
            "          )\n",
            "        )\n",
            "        (4): BottleneckBlock(\n",
            "          (conv1): Conv2d(\n",
            "            1024, 256, kernel_size=(1, 1), stride=(1, 1), bias=False\n",
            "            (norm): FrozenBatchNorm2d(num_features=256, eps=1e-05)\n",
            "          )\n",
            "          (conv2): Conv2d(\n",
            "            256, 256, kernel_size=(3, 3), stride=(1, 1), padding=(1, 1), bias=False\n",
            "            (norm): FrozenBatchNorm2d(num_features=256, eps=1e-05)\n",
            "          )\n",
            "          (conv3): Conv2d(\n",
            "            256, 1024, kernel_size=(1, 1), stride=(1, 1), bias=False\n",
            "            (norm): FrozenBatchNorm2d(num_features=1024, eps=1e-05)\n",
            "          )\n",
            "        )\n",
            "        (5): BottleneckBlock(\n",
            "          (conv1): Conv2d(\n",
            "            1024, 256, kernel_size=(1, 1), stride=(1, 1), bias=False\n",
            "            (norm): FrozenBatchNorm2d(num_features=256, eps=1e-05)\n",
            "          )\n",
            "          (conv2): Conv2d(\n",
            "            256, 256, kernel_size=(3, 3), stride=(1, 1), padding=(1, 1), bias=False\n",
            "            (norm): FrozenBatchNorm2d(num_features=256, eps=1e-05)\n",
            "          )\n",
            "          (conv3): Conv2d(\n",
            "            256, 1024, kernel_size=(1, 1), stride=(1, 1), bias=False\n",
            "            (norm): FrozenBatchNorm2d(num_features=1024, eps=1e-05)\n",
            "          )\n",
            "        )\n",
            "      )\n",
            "      (res5): Sequential(\n",
            "        (0): BottleneckBlock(\n",
            "          (shortcut): Conv2d(\n",
            "            1024, 2048, kernel_size=(1, 1), stride=(2, 2), bias=False\n",
            "            (norm): FrozenBatchNorm2d(num_features=2048, eps=1e-05)\n",
            "          )\n",
            "          (conv1): Conv2d(\n",
            "            1024, 512, kernel_size=(1, 1), stride=(2, 2), bias=False\n",
            "            (norm): FrozenBatchNorm2d(num_features=512, eps=1e-05)\n",
            "          )\n",
            "          (conv2): Conv2d(\n",
            "            512, 512, kernel_size=(3, 3), stride=(1, 1), padding=(1, 1), bias=False\n",
            "            (norm): FrozenBatchNorm2d(num_features=512, eps=1e-05)\n",
            "          )\n",
            "          (conv3): Conv2d(\n",
            "            512, 2048, kernel_size=(1, 1), stride=(1, 1), bias=False\n",
            "            (norm): FrozenBatchNorm2d(num_features=2048, eps=1e-05)\n",
            "          )\n",
            "        )\n",
            "        (1): BottleneckBlock(\n",
            "          (conv1): Conv2d(\n",
            "            2048, 512, kernel_size=(1, 1), stride=(1, 1), bias=False\n",
            "            (norm): FrozenBatchNorm2d(num_features=512, eps=1e-05)\n",
            "          )\n",
            "          (conv2): Conv2d(\n",
            "            512, 512, kernel_size=(3, 3), stride=(1, 1), padding=(1, 1), bias=False\n",
            "            (norm): FrozenBatchNorm2d(num_features=512, eps=1e-05)\n",
            "          )\n",
            "          (conv3): Conv2d(\n",
            "            512, 2048, kernel_size=(1, 1), stride=(1, 1), bias=False\n",
            "            (norm): FrozenBatchNorm2d(num_features=2048, eps=1e-05)\n",
            "          )\n",
            "        )\n",
            "        (2): BottleneckBlock(\n",
            "          (conv1): Conv2d(\n",
            "            2048, 512, kernel_size=(1, 1), stride=(1, 1), bias=False\n",
            "            (norm): FrozenBatchNorm2d(num_features=512, eps=1e-05)\n",
            "          )\n",
            "          (conv2): Conv2d(\n",
            "            512, 512, kernel_size=(3, 3), stride=(1, 1), padding=(1, 1), bias=False\n",
            "            (norm): FrozenBatchNorm2d(num_features=512, eps=1e-05)\n",
            "          )\n",
            "          (conv3): Conv2d(\n",
            "            512, 2048, kernel_size=(1, 1), stride=(1, 1), bias=False\n",
            "            (norm): FrozenBatchNorm2d(num_features=2048, eps=1e-05)\n",
            "          )\n",
            "        )\n",
            "      )\n",
            "    )\n",
            "  )\n",
            "  (proposal_generator): RPN(\n",
            "    (rpn_head): StandardRPNHead(\n",
            "      (conv): Conv2d(\n",
            "        256, 256, kernel_size=(3, 3), stride=(1, 1), padding=(1, 1)\n",
            "        (activation): ReLU()\n",
            "      )\n",
            "      (objectness_logits): Conv2d(256, 3, kernel_size=(1, 1), stride=(1, 1))\n",
            "      (anchor_deltas): Conv2d(256, 12, kernel_size=(1, 1), stride=(1, 1))\n",
            "    )\n",
            "    (anchor_generator): DefaultAnchorGenerator(\n",
            "      (cell_anchors): BufferList()\n",
            "    )\n",
            "  )\n",
            "  (roi_heads): StandardROIHeads(\n",
            "    (box_pooler): ROIPooler(\n",
            "      (level_poolers): ModuleList(\n",
            "        (0): ROIAlign(output_size=(7, 7), spatial_scale=0.25, sampling_ratio=0, aligned=True)\n",
            "        (1): ROIAlign(output_size=(7, 7), spatial_scale=0.125, sampling_ratio=0, aligned=True)\n",
            "        (2): ROIAlign(output_size=(7, 7), spatial_scale=0.0625, sampling_ratio=0, aligned=True)\n",
            "        (3): ROIAlign(output_size=(7, 7), spatial_scale=0.03125, sampling_ratio=0, aligned=True)\n",
            "      )\n",
            "    )\n",
            "    (box_head): FastRCNNConvFCHead(\n",
            "      (flatten): Flatten(start_dim=1, end_dim=-1)\n",
            "      (fc1): Linear(in_features=12544, out_features=1024, bias=True)\n",
            "      (fc_relu1): ReLU()\n",
            "      (fc2): Linear(in_features=1024, out_features=1024, bias=True)\n",
            "      (fc_relu2): ReLU()\n",
            "    )\n",
            "    (box_predictor): FastRCNNOutputLayers(\n",
            "      (cls_score): Linear(in_features=1024, out_features=3, bias=True)\n",
            "      (bbox_pred): Linear(in_features=1024, out_features=8, bias=True)\n",
            "    )\n",
            "  )\n",
            ")\n",
            "WARNING [05/06 19:09:23 d2.data.datasets.coco]: \n",
            "Category ids in annotations are not in [1, #categories]! We'll apply a mapping for you.\n",
            "\n",
            "[05/06 19:09:23 d2.data.datasets.coco]: Loaded 439 images in COCO format from /content/drive/MyDrive/Cancer_dataset/train.json\n",
            "[05/06 19:09:23 d2.data.build]: Removed 0 images with no usable annotations. 439 images left.\n",
            "[05/06 19:09:23 d2.data.build]: Distribution of instances among all 2 categories:\n",
            "|  category  | #instances   |  category  | #instances   |\n",
            "|:----------:|:-------------|:----------:|:-------------|\n",
            "|   benign   | 197          | malignant  | 242          |\n",
            "|            |              |            |              |\n",
            "|   total    | 439          |            |              |\n",
            "[05/06 19:09:23 d2.data.dataset_mapper]: [DatasetMapper] Augmentations used in training: [ResizeShortestEdge(short_edge_length=(640, 672, 704, 736, 768, 800), max_size=1333, sample_style='choice'), RandomFlip()]\n",
            "[05/06 19:09:23 d2.data.build]: Using training sampler TrainingSampler\n",
            "[05/06 19:09:23 d2.data.common]: Serializing the dataset using: <class 'detectron2.data.common._TorchSerializedList'>\n",
            "[05/06 19:09:23 d2.data.common]: Serializing 439 elements to byte tensors and concatenating them all ...\n",
            "[05/06 19:09:23 d2.data.common]: Serialized dataset takes 0.11 MiB\n",
            "[05/06 19:09:23 d2.data.build]: Making batched data loader with batch_size=2\n",
            "[05/06 19:09:23 d2.checkpoint.detection_checkpoint]: [DetectionCheckpointer] Loading from /content/drive/MyDrive/Cancer_dataset/output_1/model_final.pth ...\n",
            "[05/06 19:09:29 d2.engine.train_loop]: Starting training from iteration 0\n"
          ]
        },
        {
          "name": "stderr",
          "output_type": "stream",
          "text": [
            "/usr/local/lib/python3.11/dist-packages/torch/functional.py:539: UserWarning: torch.meshgrid: in an upcoming release, it will be required to pass the indexing argument. (Triggered internally at /pytorch/aten/src/ATen/native/TensorShape.cpp:3637.)\n",
            "  return _VF.meshgrid(tensors, **kwargs)  # type: ignore[attr-defined]\n"
          ]
        },
        {
          "name": "stdout",
          "output_type": "stream",
          "text": [
            "[05/06 19:09:40 d2.utils.events]:  eta: 0:04:27  iter: 19  total_loss: 0.2996  loss_cls: 0.07659  loss_box_reg: 0.2058  loss_rpn_cls: 0.0002395  loss_rpn_loc: 0.004077    time: 0.3796  last_time: 0.5253  data_time: 0.1075  last_data_time: 0.2013   lr: 2.4726e-06  max_mem: 1737M\n",
            "[05/06 19:09:52 d2.utils.events]:  eta: 0:04:24  iter: 39  total_loss: 0.2783  loss_cls: 0.08495  loss_box_reg: 0.1772  loss_rpn_cls: 0.000135  loss_rpn_loc: 0.004104    time: 0.3869  last_time: 0.6052  data_time: 0.0921  last_data_time: 0.2839   lr: 4.9701e-06  max_mem: 1738M\n",
            "[05/06 19:10:00 d2.utils.events]:  eta: 0:04:19  iter: 59  total_loss: 0.2783  loss_cls: 0.118  loss_box_reg: 0.154  loss_rpn_cls: 0.0006521  loss_rpn_loc: 0.005939    time: 0.3907  last_time: 0.5628  data_time: 0.1115  last_data_time: 0.2698   lr: 7.4676e-06  max_mem: 1738M\n",
            "[05/06 19:10:09 d2.utils.events]:  eta: 0:04:15  iter: 79  total_loss: 0.2725  loss_cls: 0.08182  loss_box_reg: 0.1859  loss_rpn_cls: 0.0002064  loss_rpn_loc: 0.005301    time: 0.4075  last_time: 0.3757  data_time: 0.1722  last_data_time: 0.1210   lr: 9.9651e-06  max_mem: 1738M\n",
            "[05/06 19:10:18 d2.utils.events]:  eta: 0:04:10  iter: 99  total_loss: 0.3015  loss_cls: 0.09516  loss_box_reg: 0.1709  loss_rpn_cls: 0.0001103  loss_rpn_loc: 0.004651    time: 0.4082  last_time: 0.3476  data_time: 0.1156  last_data_time: 0.0657   lr: 1.2463e-05  max_mem: 1738M\n",
            "[05/06 19:10:25 d2.utils.events]:  eta: 0:04:04  iter: 119  total_loss: 0.2641  loss_cls: 0.08175  loss_box_reg: 0.1618  loss_rpn_cls: 0.0002822  loss_rpn_loc: 0.004531    time: 0.4059  last_time: 0.4643  data_time: 0.1012  last_data_time: 0.1606   lr: 1.496e-05  max_mem: 1738M\n",
            "[05/06 19:10:33 d2.utils.events]:  eta: 0:03:56  iter: 139  total_loss: 0.3058  loss_cls: 0.1087  loss_box_reg: 0.1661  loss_rpn_cls: 0.0001385  loss_rpn_loc: 0.004666    time: 0.4004  last_time: 0.3395  data_time: 0.0734  last_data_time: 0.0029   lr: 1.7458e-05  max_mem: 1738M\n",
            "[05/06 19:10:41 d2.utils.events]:  eta: 0:03:50  iter: 159  total_loss: 0.2403  loss_cls: 0.09438  loss_box_reg: 0.133  loss_rpn_cls: 4.55e-05  loss_rpn_loc: 0.004161    time: 0.4000  last_time: 0.3060  data_time: 0.0981  last_data_time: 0.0214   lr: 1.9955e-05  max_mem: 1738M\n",
            "[05/06 19:10:49 d2.utils.events]:  eta: 0:03:38  iter: 179  total_loss: 0.2635  loss_cls: 0.08555  loss_box_reg: 0.1505  loss_rpn_cls: 0.0001009  loss_rpn_loc: 0.003879    time: 0.4004  last_time: 0.2700  data_time: 0.1115  last_data_time: 0.0152   lr: 2.2453e-05  max_mem: 1738M\n",
            "[05/06 19:10:57 d2.utils.events]:  eta: 0:03:30  iter: 199  total_loss: 0.2608  loss_cls: 0.1011  loss_box_reg: 0.1443  loss_rpn_cls: 0.0002882  loss_rpn_loc: 0.004433    time: 0.3988  last_time: 0.2995  data_time: 0.0818  last_data_time: 0.0040   lr: 2.495e-05  max_mem: 1738M\n",
            "[05/06 19:11:04 d2.utils.events]:  eta: 0:03:23  iter: 219  total_loss: 0.2455  loss_cls: 0.08785  loss_box_reg: 0.1329  loss_rpn_cls: 0.0003364  loss_rpn_loc: 0.005061    time: 0.3956  last_time: 0.3197  data_time: 0.0456  last_data_time: 0.0056   lr: 2.7448e-05  max_mem: 1738M\n",
            "[05/06 19:11:10 d2.utils.events]:  eta: 0:03:15  iter: 239  total_loss: 0.2462  loss_cls: 0.08345  loss_box_reg: 0.1488  loss_rpn_cls: 6.678e-05  loss_rpn_loc: 0.004659    time: 0.3900  last_time: 0.3236  data_time: 0.0063  last_data_time: 0.0051   lr: 2.9945e-05  max_mem: 1739M\n",
            "[05/06 19:11:17 d2.utils.events]:  eta: 0:03:08  iter: 259  total_loss: 0.2537  loss_cls: 0.09347  loss_box_reg: 0.1469  loss_rpn_cls: 0.0002764  loss_rpn_loc: 0.004122    time: 0.3857  last_time: 0.3347  data_time: 0.0081  last_data_time: 0.0263   lr: 3.2443e-05  max_mem: 1739M\n",
            "[05/06 19:11:23 d2.utils.events]:  eta: 0:03:00  iter: 279  total_loss: 0.2291  loss_cls: 0.07753  loss_box_reg: 0.1471  loss_rpn_cls: 0.0001654  loss_rpn_loc: 0.004249    time: 0.3796  last_time: 0.2842  data_time: 0.0047  last_data_time: 0.0064   lr: 3.494e-05  max_mem: 1739M\n",
            "[05/06 19:11:30 d2.utils.events]:  eta: 0:02:53  iter: 299  total_loss: 0.2498  loss_cls: 0.09003  loss_box_reg: 0.1534  loss_rpn_cls: 9.128e-05  loss_rpn_loc: 0.004307    time: 0.3754  last_time: 0.3517  data_time: 0.0049  last_data_time: 0.0043   lr: 3.7438e-05  max_mem: 1739M\n",
            "[05/06 19:11:35 d2.utils.events]:  eta: 0:02:44  iter: 319  total_loss: 0.2141  loss_cls: 0.07285  loss_box_reg: 0.1159  loss_rpn_cls: 6.309e-05  loss_rpn_loc: 0.003956    time: 0.3704  last_time: 0.2612  data_time: 0.0064  last_data_time: 0.0044   lr: 3.9935e-05  max_mem: 1739M\n",
            "[05/06 19:11:42 d2.utils.events]:  eta: 0:02:35  iter: 339  total_loss: 0.2557  loss_cls: 0.0915  loss_box_reg: 0.1423  loss_rpn_cls: 0.0001543  loss_rpn_loc: 0.005323    time: 0.3670  last_time: 0.2803  data_time: 0.0047  last_data_time: 0.0051   lr: 4.2433e-05  max_mem: 1739M\n",
            "[05/06 19:11:48 d2.utils.events]:  eta: 0:02:28  iter: 359  total_loss: 0.2415  loss_cls: 0.0874  loss_box_reg: 0.1608  loss_rpn_cls: 4.26e-05  loss_rpn_loc: 0.004572    time: 0.3639  last_time: 0.3073  data_time: 0.0048  last_data_time: 0.0043   lr: 4.493e-05  max_mem: 1739M\n",
            "[05/06 19:11:54 d2.utils.events]:  eta: 0:02:21  iter: 379  total_loss: 0.232  loss_cls: 0.07762  loss_box_reg: 0.1463  loss_rpn_cls: 0.0001958  loss_rpn_loc: 0.003709    time: 0.3614  last_time: 0.3461  data_time: 0.0044  last_data_time: 0.0042   lr: 4.7428e-05  max_mem: 1739M\n",
            "[05/06 19:12:01 d2.utils.events]:  eta: 0:02:14  iter: 399  total_loss: 0.2361  loss_cls: 0.07972  loss_box_reg: 0.1434  loss_rpn_cls: 8.437e-05  loss_rpn_loc: 0.003508    time: 0.3594  last_time: 0.3139  data_time: 0.0078  last_data_time: 0.0046   lr: 4.9925e-05  max_mem: 1739M\n",
            "[05/06 19:12:07 d2.utils.events]:  eta: 0:02:06  iter: 419  total_loss: 0.2341  loss_cls: 0.07707  loss_box_reg: 0.149  loss_rpn_cls: 5.649e-05  loss_rpn_loc: 0.00336    time: 0.3567  last_time: 0.3458  data_time: 0.0054  last_data_time: 0.0041   lr: 5.2423e-05  max_mem: 1740M\n",
            "[05/06 19:12:13 d2.utils.events]:  eta: 0:01:58  iter: 439  total_loss: 0.2476  loss_cls: 0.09126  loss_box_reg: 0.147  loss_rpn_cls: 0.0004625  loss_rpn_loc: 0.004409    time: 0.3551  last_time: 0.3513  data_time: 0.0061  last_data_time: 0.0048   lr: 5.492e-05  max_mem: 1740M\n",
            "[05/06 19:12:20 d2.utils.events]:  eta: 0:01:51  iter: 459  total_loss: 0.2501  loss_cls: 0.07263  loss_box_reg: 0.1691  loss_rpn_cls: 8.578e-05  loss_rpn_loc: 0.004883    time: 0.3532  last_time: 0.3167  data_time: 0.0060  last_data_time: 0.0045   lr: 5.7418e-05  max_mem: 1740M\n",
            "[05/06 19:12:26 d2.utils.events]:  eta: 0:01:44  iter: 479  total_loss: 0.2376  loss_cls: 0.1073  loss_box_reg: 0.1294  loss_rpn_cls: 0.0001143  loss_rpn_loc: 0.005024    time: 0.3522  last_time: 0.3111  data_time: 0.0095  last_data_time: 0.0041   lr: 5.9915e-05  max_mem: 1740M\n",
            "[05/06 19:12:32 d2.utils.events]:  eta: 0:01:37  iter: 499  total_loss: 0.2409  loss_cls: 0.07608  loss_box_reg: 0.1432  loss_rpn_cls: 0.0003832  loss_rpn_loc: 0.003806    time: 0.3501  last_time: 0.3602  data_time: 0.0046  last_data_time: 0.0045   lr: 6.2413e-05  max_mem: 1740M\n",
            "[05/06 19:12:38 d2.utils.events]:  eta: 0:01:30  iter: 519  total_loss: 0.233  loss_cls: 0.09242  loss_box_reg: 0.1379  loss_rpn_cls: 0.0004571  loss_rpn_loc: 0.004693    time: 0.3484  last_time: 0.3454  data_time: 0.0089  last_data_time: 0.0044   lr: 6.491e-05  max_mem: 1740M\n",
            "[05/06 19:12:45 d2.utils.events]:  eta: 0:01:24  iter: 539  total_loss: 0.22  loss_cls: 0.0776  loss_box_reg: 0.1348  loss_rpn_cls: 9.041e-05  loss_rpn_loc: 0.004766    time: 0.3472  last_time: 0.2654  data_time: 0.0048  last_data_time: 0.0045   lr: 6.7408e-05  max_mem: 1740M\n",
            "[05/06 19:12:51 d2.utils.events]:  eta: 0:01:17  iter: 559  total_loss: 0.2039  loss_cls: 0.06443  loss_box_reg: 0.1259  loss_rpn_cls: 0.0001166  loss_rpn_loc: 0.003788    time: 0.3464  last_time: 0.3614  data_time: 0.0054  last_data_time: 0.0092   lr: 6.9905e-05  max_mem: 1740M\n",
            "[05/06 19:12:57 d2.utils.events]:  eta: 0:01:10  iter: 579  total_loss: 0.2378  loss_cls: 0.07102  loss_box_reg: 0.137  loss_rpn_cls: 7.947e-05  loss_rpn_loc: 0.005077    time: 0.3447  last_time: 0.2994  data_time: 0.0051  last_data_time: 0.0044   lr: 7.2403e-05  max_mem: 1740M\n",
            "[05/06 19:13:03 d2.utils.events]:  eta: 0:01:04  iter: 599  total_loss: 0.2303  loss_cls: 0.08748  loss_box_reg: 0.1385  loss_rpn_cls: 9.981e-05  loss_rpn_loc: 0.003438    time: 0.3437  last_time: 0.3410  data_time: 0.0101  last_data_time: 0.0238   lr: 7.49e-05  max_mem: 1740M\n",
            "[05/06 19:13:10 d2.utils.events]:  eta: 0:00:57  iter: 619  total_loss: 0.2608  loss_cls: 0.08643  loss_box_reg: 0.1526  loss_rpn_cls: 3.721e-05  loss_rpn_loc: 0.003728    time: 0.3427  last_time: 0.3176  data_time: 0.0058  last_data_time: 0.0057   lr: 7.7398e-05  max_mem: 1740M\n",
            "[05/06 19:13:16 d2.utils.events]:  eta: 0:00:51  iter: 639  total_loss: 0.2031  loss_cls: 0.08279  loss_box_reg: 0.1179  loss_rpn_cls: 0.000255  loss_rpn_loc: 0.005175    time: 0.3420  last_time: 0.3546  data_time: 0.0054  last_data_time: 0.0044   lr: 7.9895e-05  max_mem: 1740M\n",
            "[05/06 19:13:22 d2.utils.events]:  eta: 0:00:44  iter: 659  total_loss: 0.2213  loss_cls: 0.07253  loss_box_reg: 0.1379  loss_rpn_cls: 0.0001298  loss_rpn_loc: 0.004709    time: 0.3411  last_time: 0.2983  data_time: 0.0066  last_data_time: 0.0046   lr: 8.2393e-05  max_mem: 1740M\n",
            "[05/06 19:13:29 d2.utils.events]:  eta: 0:00:38  iter: 679  total_loss: 0.2047  loss_cls: 0.07531  loss_box_reg: 0.1281  loss_rpn_cls: 0.0001446  loss_rpn_loc: 0.003757    time: 0.3403  last_time: 0.3021  data_time: 0.0054  last_data_time: 0.0041   lr: 8.489e-05  max_mem: 1740M\n",
            "[05/06 19:13:35 d2.utils.events]:  eta: 0:00:31  iter: 699  total_loss: 0.2398  loss_cls: 0.09088  loss_box_reg: 0.1452  loss_rpn_cls: 0.0006573  loss_rpn_loc: 0.004438    time: 0.3396  last_time: 0.2739  data_time: 0.0091  last_data_time: 0.0052   lr: 8.7388e-05  max_mem: 1740M\n",
            "[05/06 19:13:41 d2.utils.events]:  eta: 0:00:25  iter: 719  total_loss: 0.2371  loss_cls: 0.08643  loss_box_reg: 0.1391  loss_rpn_cls: 8.837e-05  loss_rpn_loc: 0.003519    time: 0.3389  last_time: 0.3033  data_time: 0.0052  last_data_time: 0.0044   lr: 8.9885e-05  max_mem: 1740M\n",
            "[05/06 19:13:48 d2.utils.events]:  eta: 0:00:19  iter: 739  total_loss: 0.2419  loss_cls: 0.08362  loss_box_reg: 0.1237  loss_rpn_cls: 0.0002927  loss_rpn_loc: 0.005154    time: 0.3384  last_time: 0.3461  data_time: 0.0093  last_data_time: 0.0044   lr: 9.2383e-05  max_mem: 1740M\n",
            "[05/06 19:13:54 d2.utils.events]:  eta: 0:00:12  iter: 759  total_loss: 0.2169  loss_cls: 0.0796  loss_box_reg: 0.127  loss_rpn_cls: 0.0001671  loss_rpn_loc: 0.003963    time: 0.3375  last_time: 0.3098  data_time: 0.0046  last_data_time: 0.0046   lr: 9.488e-05  max_mem: 1740M\n",
            "[05/06 19:14:00 d2.utils.events]:  eta: 0:00:06  iter: 779  total_loss: 0.2228  loss_cls: 0.0857  loss_box_reg: 0.1256  loss_rpn_cls: 6.896e-05  loss_rpn_loc: 0.002883    time: 0.3370  last_time: 0.3005  data_time: 0.0087  last_data_time: 0.0042   lr: 9.7378e-05  max_mem: 1740M\n",
            "[05/06 19:14:07 d2.utils.events]:  eta: 0:00:00  iter: 799  total_loss: 0.2569  loss_cls: 0.08028  loss_box_reg: 0.1756  loss_rpn_cls: 1.983e-05  loss_rpn_loc: 0.003697    time: 0.3361  last_time: 0.2621  data_time: 0.0044  last_data_time: 0.0039   lr: 9.9875e-05  max_mem: 1740M\n",
            "[05/06 19:14:08 d2.engine.hooks]: Overall training speed: 798 iterations in 0:04:28 (0.3361 s / it)\n",
            "[05/06 19:14:08 d2.engine.hooks]: Total training time: 0:04:34 (0:00:05 on hooks)\n"
          ]
        }
      ],
      "source": [
        "from detectron2.engine import DefaultTrainer\n",
        "os.makedirs(cfg.OUTPUT_DIR, exist_ok=True)   #set output folder\n",
        "trainer = DefaultTrainer(cfg)\n",
        "trainer.resume_or_load(resume=False)  #False for training from scratch, True for training from a checkpoint.\n",
        "trainer.train()"
      ]
    },
    {
      "cell_type": "markdown",
      "metadata": {
        "id": "73abSlWVma-8"
      },
      "source": [
        "# Define Default predictor using the trained model weights"
      ]
    },
    {
      "cell_type": "code",
      "execution_count": null,
      "metadata": {
        "colab": {
          "base_uri": "https://localhost:8080/"
        },
        "collapsed": true,
        "id": "p2CzoAPmcn2s",
        "outputId": "3e368646-7ce7-48d7-d2b9-30385fac4722"
      },
      "outputs": [
        {
          "name": "stdout",
          "output_type": "stream",
          "text": [
            "[05/06 19:20:28 d2.checkpoint.detection_checkpoint]: [DetectionCheckpointer] Loading from /content/output/model_final.pth ...\n"
          ]
        }
      ],
      "source": [
        "cfg.MODEL.WEIGHTS = os.path.join(cfg.OUTPUT_DIR, \"/content/output/model_final.pth\")  # path to the model we just trained\n",
        "cfg.MODEL.ROI_HEADS.SCORE_THRESH_TEST = 0.5   # set a custom testing threshold\n",
        "predictor = DefaultPredictor(cfg)"
      ]
    },
    {
      "cell_type": "markdown",
      "metadata": {
        "id": "xYIQeNZ4fX2m"
      },
      "source": [
        "# To Visualize all images in val"
      ]
    },
    {
      "cell_type": "code",
      "execution_count": null,
      "metadata": {
        "collapsed": true,
        "id": "iyPWxNXYfBeW"
      },
      "outputs": [],
      "source": [
        "# Load the full validation dataset\n",
        "dataset_dicts = DatasetCatalog.get(\"cancer_detection_val\")\n",
        "benign_metadata = MetadataCatalog.get(\"cancer_detection_val\")\n",
        "\n",
        "# Loop through all entries in validation dataset\n",
        "for d in dataset_dicts:\n",
        "    im = cv2.imread(d[\"file_name\"])\n",
        "    outputs = predictor(im)\n",
        "\n",
        "    v = Visualizer(im[:, :, ::-1],\n",
        "                   metadata=benign_metadata,\n",
        "                   scale=0.5)\n",
        "    out = v.draw_instance_predictions(outputs[\"instances\"].to(\"cpu\"))\n",
        "    cv2_imshow(out.get_image()[:, :, ::-1])\n"
      ]
    },
    {
      "cell_type": "markdown",
      "metadata": {
        "id": "_lg_i9SHf0cs"
      },
      "source": [
        "# To check the precision of model"
      ]
    },
    {
      "cell_type": "code",
      "execution_count": null,
      "metadata": {
        "colab": {
          "base_uri": "https://localhost:8080/"
        },
        "collapsed": true,
        "id": "WrPJtEPgdLbN",
        "outputId": "3c5d6e22-0ec2-4d81-cd78-fa6825c9d49e"
      },
      "outputs": [
        {
          "name": "stdout",
          "output_type": "stream",
          "text": [
            "[05/06 19:16:10 d2.evaluation.coco_evaluation]: Fast COCO eval is not built. Falling back to official COCO eval.\n",
            "WARNING [05/06 19:16:10 d2.data.datasets.coco]: \n",
            "Category ids in annotations are not in [1, #categories]! We'll apply a mapping for you.\n",
            "\n",
            "[05/06 19:16:10 d2.data.datasets.coco]: Loaded 110 images in COCO format from /content/drive/MyDrive/Cancer_dataset/val.json\n",
            "[05/06 19:16:10 d2.data.build]: Distribution of instances among all 2 categories:\n",
            "|  category  | #instances   |  category  | #instances   |\n",
            "|:----------:|:-------------|:----------:|:-------------|\n",
            "|   benign   | 54           | malignant  | 56           |\n",
            "|            |              |            |              |\n",
            "|   total    | 110          |            |              |\n",
            "[05/06 19:16:10 d2.data.dataset_mapper]: [DatasetMapper] Augmentations used in inference: [ResizeShortestEdge(short_edge_length=(800, 800), max_size=1333, sample_style='choice')]\n",
            "[05/06 19:16:10 d2.data.common]: Serializing the dataset using: <class 'detectron2.data.common._TorchSerializedList'>\n",
            "[05/06 19:16:10 d2.data.common]: Serializing 110 elements to byte tensors and concatenating them all ...\n",
            "[05/06 19:16:10 d2.data.common]: Serialized dataset takes 0.03 MiB\n",
            "[05/06 19:16:10 d2.evaluation.evaluator]: Start inference on 110 batches\n",
            "[05/06 19:16:11 d2.evaluation.evaluator]: Inference done 11/110. Dataloading: 0.0071 s/iter. Inference: 0.0801 s/iter. Eval: 0.0003 s/iter. Total: 0.0875 s/iter. ETA=0:00:08\n",
            "[05/06 19:16:16 d2.evaluation.evaluator]: Inference done 73/110. Dataloading: 0.0019 s/iter. Inference: 0.0796 s/iter. Eval: 0.0002 s/iter. Total: 0.0818 s/iter. ETA=0:00:03\n",
            "[05/06 19:16:19 d2.evaluation.evaluator]: Total inference time: 0:00:08.644348 (0.082327 s / iter per device, on 1 devices)\n",
            "[05/06 19:16:19 d2.evaluation.evaluator]: Total inference pure compute time: 0:00:08 (0.079880 s / iter per device, on 1 devices)\n",
            "[05/06 19:16:19 d2.evaluation.coco_evaluation]: Preparing results for COCO format ...\n",
            "[05/06 19:16:19 d2.evaluation.coco_evaluation]: Saving results to ./output/coco_instances_results.json\n",
            "[05/06 19:16:19 d2.evaluation.coco_evaluation]: Evaluating predictions with official COCO API...\n",
            "Loading and preparing results...\n",
            "DONE (t=0.00s)\n",
            "creating index...\n",
            "index created!\n",
            "Running per image evaluation...\n",
            "Evaluate annotation type *bbox*\n",
            "DONE (t=0.04s).\n",
            "Accumulating evaluation results...\n",
            "DONE (t=0.01s).\n",
            " Average Precision  (AP) @[ IoU=0.50:0.95 | area=   all | maxDets=100 ] = 0.406\n",
            " Average Precision  (AP) @[ IoU=0.50      | area=   all | maxDets=100 ] = 0.668\n",
            " Average Precision  (AP) @[ IoU=0.75      | area=   all | maxDets=100 ] = 0.428\n",
            " Average Precision  (AP) @[ IoU=0.50:0.95 | area= small | maxDets=100 ] = -1.000\n",
            " Average Precision  (AP) @[ IoU=0.50:0.95 | area=medium | maxDets=100 ] = 0.227\n",
            " Average Precision  (AP) @[ IoU=0.50:0.95 | area= large | maxDets=100 ] = 0.452\n",
            " Average Recall     (AR) @[ IoU=0.50:0.95 | area=   all | maxDets=  1 ] = 0.481\n",
            " Average Recall     (AR) @[ IoU=0.50:0.95 | area=   all | maxDets= 10 ] = 0.486\n",
            " Average Recall     (AR) @[ IoU=0.50:0.95 | area=   all | maxDets=100 ] = 0.486\n",
            " Average Recall     (AR) @[ IoU=0.50:0.95 | area= small | maxDets=100 ] = -1.000\n",
            " Average Recall     (AR) @[ IoU=0.50:0.95 | area=medium | maxDets=100 ] = 0.279\n",
            " Average Recall     (AR) @[ IoU=0.50:0.95 | area= large | maxDets=100 ] = 0.537\n",
            "[05/06 19:16:19 d2.evaluation.coco_evaluation]: Evaluation results for bbox: \n",
            "|   AP   |  AP50  |  AP75  |  APs  |  APm   |  APl   |\n",
            "|:------:|:------:|:------:|:-----:|:------:|:------:|\n",
            "| 40.604 | 66.759 | 42.808 |  nan  | 22.715 | 45.203 |\n",
            "[05/06 19:16:19 d2.evaluation.coco_evaluation]: Some metrics cannot be computed and is shown as NaN.\n",
            "[05/06 19:16:19 d2.evaluation.coco_evaluation]: Per-category bbox AP: \n",
            "| category   | AP     | category   | AP     |\n",
            "|:-----------|:-------|:-----------|:-------|\n",
            "| benign     | 44.797 | malignant  | 36.412 |\n",
            "OrderedDict([('bbox', {'AP': 40.6043761583722, 'AP50': 66.75900187574624, 'AP75': 42.80820000294374, 'APs': nan, 'APm': 22.715421542154214, 'APl': 45.20302912093858, 'AP-benign': 44.79654082409512, 'AP-malignant': 36.41221149264927})])\n"
          ]
        }
      ],
      "source": [
        "from detectron2.evaluation import COCOEvaluator, inference_on_dataset\n",
        "from detectron2.data import build_detection_test_loader\n",
        "evaluator = COCOEvaluator(\"cancer_detection_val\", output_dir=\"./output\")\n",
        "val_loader = build_detection_test_loader(cfg, \"cancer_detection_val\")\n",
        "print(inference_on_dataset(predictor.model, val_loader, evaluator))"
      ]
    }
  ],
  "metadata": {
    "accelerator": "GPU",
    "colab": {
      "gpuType": "T4",
      "provenance": []
    },
    "kernelspec": {
      "display_name": "Python 3",
      "name": "python3"
    },
    "language_info": {
      "name": "python"
    }
  },
  "nbformat": 4,
  "nbformat_minor": 0
}
